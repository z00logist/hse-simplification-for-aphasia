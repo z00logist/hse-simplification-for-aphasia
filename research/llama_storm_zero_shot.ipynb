{
 "cells": [
  {
   "cell_type": "markdown",
   "metadata": {},
   "source": [
    "# Try Llama Storm for few-shot simplification"
   ]
  },
  {
   "cell_type": "markdown",
   "metadata": {},
   "source": [
    "## Load Model"
   ]
  },
  {
   "cell_type": "markdown",
   "metadata": {},
   "source": [
    "I load model through LlamaCpp so it is much lighter"
   ]
  },
  {
   "cell_type": "code",
   "execution_count": 64,
   "metadata": {},
   "outputs": [],
   "source": [
    "from langchain_community.llms import LlamaCpp"
   ]
  },
  {
   "cell_type": "code",
   "execution_count": 65,
   "metadata": {},
   "outputs": [],
   "source": [
    "model = LlamaCpp(\n",
    "            model_path=\"../models/llama_storm/Llama-3.1-Storm-8B.Q4_K_M.gguf\",\n",
    "            n_gpu_layers=-1,\n",
    "            n_batch=512,\n",
    "            temperature=0.8,\n",
    "            max_tokens=256,\n",
    "            top_p=5,\n",
    "            verbose=False,\n",
    "            n_ctx=8192,\n",
    "            f16_kv=True,\n",
    "            repeat_penalty=1.1,\n",
    "        )"
   ]
  },
  {
   "cell_type": "markdown",
   "metadata": {},
   "source": [
    "I set the temperature lower because we want the model to follow our instructions strictly."
   ]
  },
  {
   "cell_type": "markdown",
   "metadata": {},
   "source": [
    "## Let's try the zero-shot simplification tool by levels"
   ]
  },
  {
   "cell_type": "code",
   "execution_count": 82,
   "metadata": {},
   "outputs": [],
   "source": [
    "def format_prompt(user_text: str, level: int) -> str:\n",
    "    if level == 1:\n",
    "        prompt = (\n",
    "            \"\"\"<|start_header_id|>system<|end_header_id|>\\n\\n\"\"\"\n",
    "            \"You are a text simplification tool for the Russian language. \"\n",
    "            \"You are given a text in Russian and you need give a simple version of it in Russian. \"\n",
    "            \"Your task is to simplify complex sentences into simple ones. \"\n",
    "            \"Avoid cramming too many details into one sentence; distribute them across multiple sentences where needed. \"\n",
    "            \"Rephrase sentences to remove participial and gerundial constructions. \"\n",
    "            \"Where possible, replace passive voice with active voice. \"\n",
    "            \"If a sentence consists of only a noun, add a verb. \"\n",
    "            \"Replace rare or low-frequency words with more common ones. \"\n",
    "            \"Where appropriate, remove or replace foreign words. \"\n",
    "            \"Clarify ambiguous phrases by replacing them with more concrete, easily understandable words. \"\n",
    "            \"Where possible, avoid words that have paronyms. \"\n",
    "            \"Use only Russian, English is forbidden at any cost.\"\n",
    "            \"<|eot_id|><|start_header_id|>user<|end_header_id|>\\n\\n\"\n",
    "            \"Simplify the following text in Russian: {user_text}\\n\"\n",
    "            \"<|eot_id|><|start_header_id|>assistant<|end_header_id|>\\n\\n\"\n",
    "        )\n",
    "        \n",
    "    elif level == 2:\n",
    "        prompt = (\n",
    "            \"\"\"<|start_header_id|>system<|end_header_id|>\\n\\n\"\"\"\n",
    "            \"You are a text simplification tool for the Russian language. \"\n",
    "            \"You are given a text in Russian and you need give a simple version of it in Russian. \"\n",
    "            \"Simplify complex or compound sentences by breaking them into shorter ones, aiming for a sentence length of no more than seven words. \"\n",
    "            \"Ensure each sentence contains only one idea. \"\n",
    "            \"Avoid participial and gerundial constructions, and prefer active voice over passive voice. \"\n",
    "            \"Keep essential information like names, nationalities, and roles. Do not remove important details. \"\n",
    "            \"Remove unnecessary foreign words (like brand names) and replace rare or long words with simpler, shorter ones. \"\n",
    "            \"Simplify ambiguous phrases by using more concrete, clear words. \"\n",
    "            \"Remove minor details that do not add significant meaning, but ensure key information remains intact. \"\n",
    "            \"Use only Russian, English is forbidden at any cost.\"\n",
    "            \"<|eot_id|><|start_header_id|>user<|end_header_id|>\\n\\n\"\n",
    "            \"Simplify the following text in Russian: {user_text}\\n\"\n",
    "            \"<|eot_id|><|start_header_id|>assistant<|end_header_id|>\\n\\n\"\n",
    "        )\n",
    "\n",
    "\n",
    "    elif level == 3:\n",
    "        prompt = (\n",
    "            \"\"\"<|start_header_id|>system<|end_header_id|>\\n\\n\"\"\"\n",
    "            \"You are a text simplification assistant for the Russian language. \"\n",
    "            \"You are given a text in Russian and you need give a simple version of it in Russian. \"\n",
    "            \"Your task is to make the text as simple as possible. \"\n",
    "            \"Each sentence should contain only one idea and be no longer than five words. \"\n",
    "            \"Remove or replace foreign words (such as names, places, or brands), and avoid minor details. \"\n",
    "            \"Eliminate numbers and remove any unnecessary details. \"\n",
    "            \"Focus on using the nominative and genitive cases for nouns, and only the present or past tense for verbs. \"\n",
    "            \"Avoid passive voice and inverted word order. \"\n",
    "            \"Replace rare or low-frequency words with more common ones. \"\n",
    "            \"Where possible, replace complex phrases with common expressions, clichés, or idioms. \"\n",
    "            \"Remove any extraneous details (if it is possible to without removing original semantics of sentence) and simplify ambiguous phrases as much as possible.\"\n",
    "            \"Use only Russian, English is forbidden at any cost.\"\n",
    "            \"<|eot_id|><|start_header_id|>user<|end_header_id|>\\n\\n\"\n",
    "            \"Simplify the following text in Russian: {user_text}\\n\"\n",
    "            \"<|eot_id|><|start_header_id|>assistant<|end_header_id|>\\n\\n\"\n",
    "        )\n",
    "    \n",
    "    return prompt.format(user_text=user_text)\n"
   ]
  },
  {
   "cell_type": "markdown",
   "metadata": {},
   "source": [
    "### 1 Level"
   ]
  },
  {
   "cell_type": "code",
   "execution_count": 83,
   "metadata": {},
   "outputs": [],
   "source": [
    "prompt = format_prompt(user_text=\"Россиянка Елена Максимова одержала победу в международном конкурсе «Миссис Вселенная».\", level=1)"
   ]
  },
  {
   "cell_type": "code",
   "execution_count": 84,
   "metadata": {},
   "outputs": [
    {
     "data": {
      "text/plain": [
       "'В международном конкурсе \"Миссис Вселенная\" победила россиянка Елена Максимова.'"
      ]
     },
     "execution_count": 84,
     "metadata": {},
     "output_type": "execute_result"
    }
   ],
   "source": [
    "model.invoke(str(prompt))"
   ]
  },
  {
   "cell_type": "markdown",
   "metadata": {},
   "source": [
    "### 2 Level"
   ]
  },
  {
   "cell_type": "code",
   "execution_count": 85,
   "metadata": {},
   "outputs": [],
   "source": [
    "prompt = format_prompt(user_text=\"Россиянка Елена Максимова одержала победу в международном конкурсе «Миссис Вселенная».\", level=2)"
   ]
  },
  {
   "cell_type": "code",
   "execution_count": 86,
   "metadata": {},
   "outputs": [
    {
     "data": {
      "text/plain": [
       "'Россиянка Елена Максимова стала победительницей конкурса \"Миссис Вселенная\".'"
      ]
     },
     "execution_count": 86,
     "metadata": {},
     "output_type": "execute_result"
    }
   ],
   "source": [
    "model.invoke(str(prompt))"
   ]
  },
  {
   "cell_type": "markdown",
   "metadata": {},
   "source": [
    "### 3 Level"
   ]
  },
  {
   "cell_type": "code",
   "execution_count": 87,
   "metadata": {},
   "outputs": [],
   "source": [
    "prompt = format_prompt(user_text=\"Россиянка Елена Максимова одержала победу в международном конкурсе «Миссис Вселенная».\", level=3)"
   ]
  },
  {
   "cell_type": "code",
   "execution_count": 88,
   "metadata": {},
   "outputs": [
    {
     "data": {
      "text/plain": [
       "'Россиянка одержала победу.'"
      ]
     },
     "execution_count": 88,
     "metadata": {},
     "output_type": "execute_result"
    }
   ],
   "source": [
    "model.invoke(str(prompt))"
   ]
  },
  {
   "cell_type": "markdown",
   "metadata": {},
   "source": [
    "Well, not bad at all! Let's compute the 200 samples from dataset."
   ]
  },
  {
   "cell_type": "markdown",
   "metadata": {},
   "source": [
    "## Load Data\n"
   ]
  },
  {
   "cell_type": "code",
   "execution_count": 97,
   "metadata": {},
   "outputs": [
    {
     "data": {
      "text/html": [
       "<div>\n",
       "<style scoped>\n",
       "    .dataframe tbody tr th:only-of-type {\n",
       "        vertical-align: middle;\n",
       "    }\n",
       "\n",
       "    .dataframe tbody tr th {\n",
       "        vertical-align: top;\n",
       "    }\n",
       "\n",
       "    .dataframe thead th {\n",
       "        text-align: right;\n",
       "    }\n",
       "</style>\n",
       "<table border=\"1\" class=\"dataframe\">\n",
       "  <thead>\n",
       "    <tr style=\"text-align: right;\">\n",
       "      <th></th>\n",
       "      <th>source</th>\n",
       "      <th>level 1</th>\n",
       "      <th>level 2</th>\n",
       "      <th>level 3</th>\n",
       "    </tr>\n",
       "  </thead>\n",
       "  <tbody>\n",
       "    <tr>\n",
       "      <th>0</th>\n",
       "      <td>Россиянка Елена Максимова одержала победу в ме...</td>\n",
       "      <td>Россиянка Елена Максимова победила в конкурсе ...</td>\n",
       "      <td>Россиянка победила в конкурсе «Миссис Вселенная».</td>\n",
       "      <td>Россиянка победила в конкурсе «Миссис Вселенная».</td>\n",
       "    </tr>\n",
       "    <tr>\n",
       "      <th>1</th>\n",
       "      <td>Представительница России впервые завоевала это...</td>\n",
       "      <td>В прессе сказали, что участница из России полу...</td>\n",
       "      <td>Участница из России получает этот титул впервые.</td>\n",
       "      <td>Россиянка получает этот титул впервые.</td>\n",
       "    </tr>\n",
       "    <tr>\n",
       "      <th>2</th>\n",
       "      <td>Уточняется, что финал прошел в Софии 4 февраля.</td>\n",
       "      <td>Финал прошел в Болгарии в начале февраля.</td>\n",
       "      <td>Финал был в Болгарии в феврале.</td>\n",
       "      <td>Финал был начале февраля. Он был в в Болгарии.</td>\n",
       "    </tr>\n",
       "    <tr>\n",
       "      <th>3</th>\n",
       "      <td>Участие в нем принимали 120 женщин из разных с...</td>\n",
       "      <td>В нем участвовали 120 женщин из разных стран.</td>\n",
       "      <td>В нем участвовали 120 женщин из разных стран.</td>\n",
       "      <td>В нем участвовали женщины из разных стран.</td>\n",
       "    </tr>\n",
       "    <tr>\n",
       "      <th>4</th>\n",
       "      <td>«Конкуренция на конкурсе была очень жесткая: р...</td>\n",
       "      <td>«В конкурсе было сложно выиграть. Было много у...</td>\n",
       "      <td>«В конкурсе было сложно выиграть. Было много у...</td>\n",
       "      <td>«В конкурсе было сложно выиграть.</td>\n",
       "    </tr>\n",
       "  </tbody>\n",
       "</table>\n",
       "</div>"
      ],
      "text/plain": [
       "                                              source  \\\n",
       "0  Россиянка Елена Максимова одержала победу в ме...   \n",
       "1  Представительница России впервые завоевала это...   \n",
       "2    Уточняется, что финал прошел в Софии 4 февраля.   \n",
       "3  Участие в нем принимали 120 женщин из разных с...   \n",
       "4  «Конкуренция на конкурсе была очень жесткая: р...   \n",
       "\n",
       "                                             level 1  \\\n",
       "0  Россиянка Елена Максимова победила в конкурсе ...   \n",
       "1  В прессе сказали, что участница из России полу...   \n",
       "2          Финал прошел в Болгарии в начале февраля.   \n",
       "3      В нем участвовали 120 женщин из разных стран.   \n",
       "4  «В конкурсе было сложно выиграть. Было много у...   \n",
       "\n",
       "                                             level 2  \\\n",
       "0  Россиянка победила в конкурсе «Миссис Вселенная».   \n",
       "1   Участница из России получает этот титул впервые.   \n",
       "2                    Финал был в Болгарии в феврале.   \n",
       "3      В нем участвовали 120 женщин из разных стран.   \n",
       "4  «В конкурсе было сложно выиграть. Было много у...   \n",
       "\n",
       "                                             level 3  \n",
       "0  Россиянка победила в конкурсе «Миссис Вселенная».  \n",
       "1             Россиянка получает этот титул впервые.  \n",
       "2     Финал был начале февраля. Он был в в Болгарии.  \n",
       "3         В нем участвовали женщины из разных стран.  \n",
       "4                  «В конкурсе было сложно выиграть.  "
      ]
     },
     "execution_count": 97,
     "metadata": {},
     "output_type": "execute_result"
    }
   ],
   "source": [
    "import pandas as pd\n",
    "\n",
    "data = pd.read_csv(\"../data/RuSimpleSentAphasia.csv\")\n",
    "\n",
    "data.head()"
   ]
  },
  {
   "cell_type": "code",
   "execution_count": 98,
   "metadata": {},
   "outputs": [
    {
     "data": {
      "text/plain": [
       "1002"
      ]
     },
     "execution_count": 98,
     "metadata": {},
     "output_type": "execute_result"
    }
   ],
   "source": [
    "len(data)"
   ]
  },
  {
   "cell_type": "code",
   "execution_count": 99,
   "metadata": {},
   "outputs": [],
   "source": [
    "new_data = pd.DataFrame(data[\"source\"].head(200))"
   ]
  },
  {
   "cell_type": "code",
   "execution_count": 100,
   "metadata": {},
   "outputs": [
    {
     "data": {
      "text/html": [
       "<div>\n",
       "<style scoped>\n",
       "    .dataframe tbody tr th:only-of-type {\n",
       "        vertical-align: middle;\n",
       "    }\n",
       "\n",
       "    .dataframe tbody tr th {\n",
       "        vertical-align: top;\n",
       "    }\n",
       "\n",
       "    .dataframe thead th {\n",
       "        text-align: right;\n",
       "    }\n",
       "</style>\n",
       "<table border=\"1\" class=\"dataframe\">\n",
       "  <thead>\n",
       "    <tr style=\"text-align: right;\">\n",
       "      <th></th>\n",
       "      <th>source</th>\n",
       "    </tr>\n",
       "  </thead>\n",
       "  <tbody>\n",
       "    <tr>\n",
       "      <th>0</th>\n",
       "      <td>Россиянка Елена Максимова одержала победу в ме...</td>\n",
       "    </tr>\n",
       "    <tr>\n",
       "      <th>1</th>\n",
       "      <td>Представительница России впервые завоевала это...</td>\n",
       "    </tr>\n",
       "    <tr>\n",
       "      <th>2</th>\n",
       "      <td>Уточняется, что финал прошел в Софии 4 февраля.</td>\n",
       "    </tr>\n",
       "    <tr>\n",
       "      <th>3</th>\n",
       "      <td>Участие в нем принимали 120 женщин из разных с...</td>\n",
       "    </tr>\n",
       "    <tr>\n",
       "      <th>4</th>\n",
       "      <td>«Конкуренция на конкурсе была очень жесткая: р...</td>\n",
       "    </tr>\n",
       "    <tr>\n",
       "      <th>...</th>\n",
       "      <td>...</td>\n",
       "    </tr>\n",
       "    <tr>\n",
       "      <th>195</th>\n",
       "      <td>Ранее президент Национального института геофиз...</td>\n",
       "    </tr>\n",
       "    <tr>\n",
       "      <th>196</th>\n",
       "      <td>Во время операции врачи извлекли 39 металличес...</td>\n",
       "    </tr>\n",
       "    <tr>\n",
       "      <th>197</th>\n",
       "      <td>По словам одного из хирургов, этот пациент поп...</td>\n",
       "    </tr>\n",
       "    <tr>\n",
       "      <th>198</th>\n",
       "      <td>Выяснилось, что все эти предметы пациент прогл...</td>\n",
       "    </tr>\n",
       "    <tr>\n",
       "      <th>199</th>\n",
       "      <td>При этом никто не знал о его своеобразном хобб...</td>\n",
       "    </tr>\n",
       "  </tbody>\n",
       "</table>\n",
       "<p>200 rows × 1 columns</p>\n",
       "</div>"
      ],
      "text/plain": [
       "                                                source\n",
       "0    Россиянка Елена Максимова одержала победу в ме...\n",
       "1    Представительница России впервые завоевала это...\n",
       "2      Уточняется, что финал прошел в Софии 4 февраля.\n",
       "3    Участие в нем принимали 120 женщин из разных с...\n",
       "4    «Конкуренция на конкурсе была очень жесткая: р...\n",
       "..                                                 ...\n",
       "195  Ранее президент Национального института геофиз...\n",
       "196  Во время операции врачи извлекли 39 металличес...\n",
       "197  По словам одного из хирургов, этот пациент поп...\n",
       "198  Выяснилось, что все эти предметы пациент прогл...\n",
       "199  При этом никто не знал о его своеобразном хобб...\n",
       "\n",
       "[200 rows x 1 columns]"
      ]
     },
     "execution_count": 100,
     "metadata": {},
     "output_type": "execute_result"
    }
   ],
   "source": [
    "new_data"
   ]
  },
  {
   "cell_type": "code",
   "execution_count": 102,
   "metadata": {},
   "outputs": [],
   "source": [
    "def apply_generation(text, level) -> str:\n",
    "    prompt = format_prompt(user_text=text, level=level)\n",
    "    return model.invoke(str(prompt), stop=[\"\\n\\n\", \". \", \" \\n\\n\", \". \\n\\n\", \"\\n\", \" \\n\"])"
   ]
  },
  {
   "cell_type": "code",
   "execution_count": 103,
   "metadata": {},
   "outputs": [],
   "source": [
    "for level in [1, 2, 3]:\n",
    "    column = f\"level {level}\"\n",
    "    new_data[column] = new_data[\"source\"].apply(lambda x: apply_generation(x, level))"
   ]
  },
  {
   "cell_type": "code",
   "execution_count": 104,
   "metadata": {},
   "outputs": [],
   "source": [
    "new_data.to_csv(\"../data/RuSimpleSentAphasia_200_generated.csv\", index=False)"
   ]
  },
  {
   "cell_type": "markdown",
   "metadata": {},
   "source": [
    "## Let's calculate BERTscore between ground truth and predicted texts"
   ]
  },
  {
   "cell_type": "code",
   "execution_count": 105,
   "metadata": {},
   "outputs": [
    {
     "data": {
      "text/html": [
       "<div>\n",
       "<style scoped>\n",
       "    .dataframe tbody tr th:only-of-type {\n",
       "        vertical-align: middle;\n",
       "    }\n",
       "\n",
       "    .dataframe tbody tr th {\n",
       "        vertical-align: top;\n",
       "    }\n",
       "\n",
       "    .dataframe thead th {\n",
       "        text-align: right;\n",
       "    }\n",
       "</style>\n",
       "<table border=\"1\" class=\"dataframe\">\n",
       "  <thead>\n",
       "    <tr style=\"text-align: right;\">\n",
       "      <th></th>\n",
       "      <th>source</th>\n",
       "      <th>level 1</th>\n",
       "      <th>level 2</th>\n",
       "      <th>level 3</th>\n",
       "    </tr>\n",
       "  </thead>\n",
       "  <tbody>\n",
       "    <tr>\n",
       "      <th>0</th>\n",
       "      <td>Россиянка Елена Максимова одержала победу в ме...</td>\n",
       "      <td>Россиянка Елена Максимова выиграла конкурс \"Ми...</td>\n",
       "      <td>Елена Максимова из России стала победительнице...</td>\n",
       "      <td>Россиянка Елена Максимова выиграла конкурс.</td>\n",
       "    </tr>\n",
       "    <tr>\n",
       "      <th>1</th>\n",
       "      <td>Представительница России впервые завоевала это...</td>\n",
       "      <td>Россиянка впервые получила эту награду</td>\n",
       "      <td>Россиянка-first выиграла эту награду.</td>\n",
       "      <td>Россиянка победила впервые.</td>\n",
       "    </tr>\n",
       "    <tr>\n",
       "      <th>2</th>\n",
       "      <td>Уточняется, что финал прошел в Софии 4 февраля.</td>\n",
       "      <td>Финал состоялся 4 февраля в городе София.</td>\n",
       "      <td>Финал прошел 4 февраля в Софии.</td>\n",
       "      <td>Финал прошел 4 февраля в Софии.</td>\n",
       "    </tr>\n",
       "    <tr>\n",
       "      <th>3</th>\n",
       "      <td>Участие в нем принимали 120 женщин из разных с...</td>\n",
       "      <td>В этом мероприятии приняли участие 120 женщин ...</td>\n",
       "      <td>В этом мероприятии приняли участие 120 женщин ...</td>\n",
       "      <td>Женщины из разных стран участвовали в событии.</td>\n",
       "    </tr>\n",
       "    <tr>\n",
       "      <th>4</th>\n",
       "      <td>«Конкуренция на конкурсе была очень жесткая: р...</td>\n",
       "      <td>«Конкурс был очень трудным: много участниц, и ...</td>\n",
       "      <td>«Конкурс был очень сложным: много участниц, но...</td>\n",
       "      <td>«Конкурс был сложным: много участниц, все хоро...</td>\n",
       "    </tr>\n",
       "    <tr>\n",
       "      <th>...</th>\n",
       "      <td>...</td>\n",
       "      <td>...</td>\n",
       "      <td>...</td>\n",
       "      <td>...</td>\n",
       "    </tr>\n",
       "    <tr>\n",
       "      <th>195</th>\n",
       "      <td>Ранее президент Национального института геофиз...</td>\n",
       "      <td>Ранее президент итальянского геофизического ин...</td>\n",
       "      <td>В прошлом президент Италии по геофизике и вулк...</td>\n",
       "      <td>Ранее произошло сильное землетрясение</td>\n",
       "    </tr>\n",
       "    <tr>\n",
       "      <th>196</th>\n",
       "      <td>Во время операции врачи извлекли 39 металличес...</td>\n",
       "      <td>Во время операции из живота 30-летнего ливанца...</td>\n",
       "      <td>Врачам удалось найти 39 металлических и пластм...</td>\n",
       "      <td>Врачами изъято 39 кусков металла и пластика</td>\n",
       "    </tr>\n",
       "    <tr>\n",
       "      <th>197</th>\n",
       "      <td>По словам одного из хирургов, этот пациент поп...</td>\n",
       "      <td>Пациент был доставлен в больницу с дыхательной...</td>\n",
       "      <td>Пациент попал в больницу потому, что у него бы...</td>\n",
       "      <td>Пациент попал в больницу с удушьем.</td>\n",
       "    </tr>\n",
       "    <tr>\n",
       "      <th>198</th>\n",
       "      <td>Выяснилось, что все эти предметы пациент прогл...</td>\n",
       "      <td>Пациент проглотил эти предметы за год.</td>\n",
       "      <td>Пациент съел эти предметы за год.</td>\n",
       "      <td>Пациент съел это весь год.</td>\n",
       "    </tr>\n",
       "    <tr>\n",
       "      <th>199</th>\n",
       "      <td>При этом никто не знал о его своеобразном хобб...</td>\n",
       "      <td>Nobody knew about его своеобразное хобби.</td>\n",
       "      <td>Никто не знал об интересе человека к его уника...</td>\n",
       "      <td>Его хобби было неизвестно.</td>\n",
       "    </tr>\n",
       "  </tbody>\n",
       "</table>\n",
       "<p>200 rows × 4 columns</p>\n",
       "</div>"
      ],
      "text/plain": [
       "                                                source  \\\n",
       "0    Россиянка Елена Максимова одержала победу в ме...   \n",
       "1    Представительница России впервые завоевала это...   \n",
       "2      Уточняется, что финал прошел в Софии 4 февраля.   \n",
       "3    Участие в нем принимали 120 женщин из разных с...   \n",
       "4    «Конкуренция на конкурсе была очень жесткая: р...   \n",
       "..                                                 ...   \n",
       "195  Ранее президент Национального института геофиз...   \n",
       "196  Во время операции врачи извлекли 39 металличес...   \n",
       "197  По словам одного из хирургов, этот пациент поп...   \n",
       "198  Выяснилось, что все эти предметы пациент прогл...   \n",
       "199  При этом никто не знал о его своеобразном хобб...   \n",
       "\n",
       "                                               level 1  \\\n",
       "0    Россиянка Елена Максимова выиграла конкурс \"Ми...   \n",
       "1               Россиянка впервые получила эту награду   \n",
       "2            Финал состоялся 4 февраля в городе София.   \n",
       "3    В этом мероприятии приняли участие 120 женщин ...   \n",
       "4    «Конкурс был очень трудным: много участниц, и ...   \n",
       "..                                                 ...   \n",
       "195  Ранее президент итальянского геофизического ин...   \n",
       "196  Во время операции из живота 30-летнего ливанца...   \n",
       "197  Пациент был доставлен в больницу с дыхательной...   \n",
       "198             Пациент проглотил эти предметы за год.   \n",
       "199          Nobody knew about его своеобразное хобби.   \n",
       "\n",
       "                                               level 2  \\\n",
       "0    Елена Максимова из России стала победительнице...   \n",
       "1                Россиянка-first выиграла эту награду.   \n",
       "2                      Финал прошел 4 февраля в Софии.   \n",
       "3    В этом мероприятии приняли участие 120 женщин ...   \n",
       "4    «Конкурс был очень сложным: много участниц, но...   \n",
       "..                                                 ...   \n",
       "195  В прошлом президент Италии по геофизике и вулк...   \n",
       "196  Врачам удалось найти 39 металлических и пластм...   \n",
       "197  Пациент попал в больницу потому, что у него бы...   \n",
       "198                  Пациент съел эти предметы за год.   \n",
       "199  Никто не знал об интересе человека к его уника...   \n",
       "\n",
       "                                               level 3  \n",
       "0          Россиянка Елена Максимова выиграла конкурс.  \n",
       "1                          Россиянка победила впервые.  \n",
       "2                      Финал прошел 4 февраля в Софии.  \n",
       "3       Женщины из разных стран участвовали в событии.  \n",
       "4    «Конкурс был сложным: много участниц, все хоро...  \n",
       "..                                                 ...  \n",
       "195              Ранее произошло сильное землетрясение  \n",
       "196        Врачами изъято 39 кусков металла и пластика  \n",
       "197                Пациент попал в больницу с удушьем.  \n",
       "198                         Пациент съел это весь год.  \n",
       "199                         Его хобби было неизвестно.  \n",
       "\n",
       "[200 rows x 4 columns]"
      ]
     },
     "execution_count": 105,
     "metadata": {},
     "output_type": "execute_result"
    }
   ],
   "source": [
    "new_data"
   ]
  },
  {
   "cell_type": "code",
   "execution_count": null,
   "metadata": {},
   "outputs": [],
   "source": [
    "from evaluate import load\n",
    "import numpy as np\n",
    "\n",
    "bertscore = load(\"bertscore\")\n",
    "\n",
    "bert_scores = {}\n",
    "val_data = data.head(200)\n",
    "\n",
    "\n",
    "for level in val_data.columns[1:]:\n",
    "    references = val_data[level].tolist()\n",
    "    predictions = new_data[level].tolist()\n",
    "\n",
    "    results = bertscore.compute(predictions=predictions, references=references, lang=\"ru\")\n",
    "    \n",
    "    bert_scores[level] = {\n",
    "        \"precision\": np.mean(results['precision']),\n",
    "        \"recall\": np.mean(results['recall']),\n",
    "        \"f1\": np.mean(results['f1'])\n",
    "    }"
   ]
  },
  {
   "cell_type": "code",
   "execution_count": 118,
   "metadata": {},
   "outputs": [
    {
     "name": "stdout",
     "output_type": "stream",
     "text": [
      "BERTScore for level 1:\n",
      "Precision: 0.7868844160437584\n",
      "Recall: 0.792064271569252\n",
      "F1: 0.7886312890052796\n",
      "\n",
      "BERTScore for level 2:\n",
      "Precision: 0.7685994148254395\n",
      "Recall: 0.7785915061831474\n",
      "F1: 0.7727830782532692\n",
      "\n",
      "BERTScore for level 3:\n",
      "Precision: 0.7649708545207977\n",
      "Recall: 0.7463380554318428\n",
      "F1: 0.7548669040203094\n",
      "\n"
     ]
    }
   ],
   "source": [
    "for level, scores in bert_scores.items():\n",
    "    print(f\"BERTScore for {level}:\")\n",
    "    print(f\"Precision: {scores['precision']}\")\n",
    "    print(f\"Recall: {scores['recall']}\")\n",
    "    print(f\"F1: {scores['f1']}\\n\")"
   ]
  },
  {
   "cell_type": "markdown",
   "metadata": {},
   "source": [
    "The metrics are okay. If we look closely in the data, the generation is logical, the model simplifyes the text. However, we can see some hallucinations (for instance, english inside russian sentences). But due to their small number of appereances,  we can state that they are not the rule but the exception.  \n",
    "You can examine the dataset yourself in data/RuSimpleSentAphasia_generated.csv"
   ]
  },
  {
   "cell_type": "markdown",
   "metadata": {},
   "source": []
  }
 ],
 "metadata": {
  "kernelspec": {
   "display_name": ".venv",
   "language": "python",
   "name": "python3"
  },
  "language_info": {
   "codemirror_mode": {
    "name": "ipython",
    "version": 3
   },
   "file_extension": ".py",
   "mimetype": "text/x-python",
   "name": "python",
   "nbconvert_exporter": "python",
   "pygments_lexer": "ipython3",
   "version": "3.10.12"
  }
 },
 "nbformat": 4,
 "nbformat_minor": 2
}
